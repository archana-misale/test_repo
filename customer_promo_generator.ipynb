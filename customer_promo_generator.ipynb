{
 "cells": [
  {
   "cell_type": "markdown",
   "id": "f6e713d4",
   "metadata": {},
   "source": [
    "### Customer Promos\n",
    "\n",
    "We're working on some fun promotional giveaways for our next big sale.\n",
    "\n",
    "We want to generate a few different sequences of lucky numbers - customers who get lucky will receive a keychain, coffee mug, or beanie!\n",
    "\n",
    "Coffee mugs will be given to even numbered vistors in our first 10 visitors, please generate a sequence of even integers between 1 and 10."
   ]
  },
  {
   "cell_type": "code",
   "execution_count": 11,
   "id": "8abd6ea5",
   "metadata": {},
   "outputs": [
    {
     "name": "stdout",
     "output_type": "stream",
     "text": [
      "2\n",
      "4\n",
      "6\n",
      "8\n",
      "10\n"
     ]
    }
   ],
   "source": [
    "even_list=[]\n",
    "for i in range(1,11):\n",
    "        if i%2 == 0:\n",
    "            print(i)\n",
    "            #even_list=i.append()\n",
    "            \n"
   ]
  },
  {
   "cell_type": "code",
   "execution_count": 12,
   "id": "c646497f",
   "metadata": {},
   "outputs": [
    {
     "data": {
      "text/plain": [
       "[2, 4, 6, 8, 10]"
      ]
     },
     "execution_count": 12,
     "metadata": {},
     "output_type": "execute_result"
    }
   ],
   "source": [
    "list(range(2,11,2))"
   ]
  },
  {
   "cell_type": "code",
   "execution_count": 14,
   "id": "a71c3d77",
   "metadata": {},
   "outputs": [
    {
     "data": {
      "text/plain": [
       "[1, 3, 5, 7, 9]"
      ]
     },
     "execution_count": 14,
     "metadata": {},
     "output_type": "execute_result"
    }
   ],
   "source": [
    "list(range(1,11,2))"
   ]
  },
  {
   "cell_type": "markdown",
   "id": "c0c04fca",
   "metadata": {},
   "source": [
    "Now generate a sequence of odd integers from 1 and 10. They'll get keychains."
   ]
  },
  {
   "cell_type": "code",
   "execution_count": 5,
   "id": "723ef9ed",
   "metadata": {},
   "outputs": [
    {
     "name": "stdout",
     "output_type": "stream",
     "text": [
      "1\n",
      "3\n",
      "5\n",
      "7\n",
      "9\n"
     ]
    }
   ],
   "source": [
    "for i in range(1,10):\n",
    "        if i%2 == 1:\n",
    "           print(i)"
   ]
  },
  {
   "cell_type": "code",
   "execution_count": 17,
   "id": "7ad59eb5",
   "metadata": {},
   "outputs": [
    {
     "data": {
      "text/plain": [
       "[7, 14, 21, 28, 35, 42, 49, 56, 63, 70, 77, 84, 91, 98]"
      ]
     },
     "execution_count": 17,
     "metadata": {},
     "output_type": "execute_result"
    }
   ],
   "source": [
    "list(range(7,100,7))"
   ]
  },
  {
   "cell_type": "markdown",
   "id": "ce7e0d0c",
   "metadata": {},
   "source": [
    "Finally, every 7th customer in our first 100 vistors will receive a beanie.\n",
    "\n",
    "Generate a sequence of integers containing multiples of 7 from 1 to 100. "
   ]
  },
  {
   "cell_type": "code",
   "execution_count": 18,
   "id": "f04f2043",
   "metadata": {},
   "outputs": [
    {
     "name": "stdout",
     "output_type": "stream",
     "text": [
      "7\n",
      "14\n",
      "21\n",
      "28\n",
      "35\n",
      "42\n",
      "49\n",
      "56\n",
      "63\n",
      "70\n",
      "77\n",
      "84\n",
      "91\n",
      "98\n"
     ]
    }
   ],
   "source": [
    "for i in range(1,100):\n",
    "        if i%7 == 0:\n",
    "           print(i)"
   ]
  },
  {
   "cell_type": "code",
   "execution_count": null,
   "id": "f67621f2",
   "metadata": {},
   "outputs": [],
   "source": []
  },
  {
   "cell_type": "code",
   "execution_count": null,
   "id": "fe17e9e1",
   "metadata": {},
   "outputs": [],
   "source": []
  }
 ],
 "metadata": {
  "kernelspec": {
   "display_name": "Python 3 (ipykernel)",
   "language": "python",
   "name": "python3"
  },
  "language_info": {
   "codemirror_mode": {
    "name": "ipython",
    "version": 3
   },
   "file_extension": ".py",
   "mimetype": "text/x-python",
   "name": "python",
   "nbconvert_exporter": "python",
   "pygments_lexer": "ipython3",
   "version": "3.9.13"
  }
 },
 "nbformat": 4,
 "nbformat_minor": 5
}
