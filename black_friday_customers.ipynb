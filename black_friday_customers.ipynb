{
 "cells": [
  {
   "cell_type": "markdown",
   "id": "94e7c134",
   "metadata": {},
   "source": [
    "### Create a List the customers that made purchases on black friday\n",
    "\n",
    "The customers that made purchases on Black Friday were:\n",
    "\n",
    "C00001, C00003, C00004, C00005 C00006, C00007, C00018, C00010, C00013, C00014, C00015, C00016 and C00029\n",
    "\n",
    "Call your list `customer_list`."
   ]
  },
  {
   "cell_type": "code",
   "execution_count": 15,
   "id": "8cadc495",
   "metadata": {},
   "outputs": [],
   "source": [
    "customer_list=['C00001', 'C00003','C00004', 'C00005', 'C00006', 'C00007', 'C00018', 'C00010', 'C00013', 'C00014', 'C00015', 'C00016','C00029']"
   ]
  },
  {
   "cell_type": "markdown",
   "id": "b5489e0a",
   "metadata": {},
   "source": [
    "### Did C00009 make a purchase?\n",
    "\n",
    "This customer said they made a purchase we're not seeing it in our data. If they did, we need to record the revenue.\n",
    "\n",
    "Write code that returns 99.99 if C00009 is in the list. If not, return 0.0."
   ]
  },
  {
   "cell_type": "code",
   "execution_count": 16,
   "id": "240e3813",
   "metadata": {},
   "outputs": [
    {
     "name": "stdout",
     "output_type": "stream",
     "text": [
      "0.0\n"
     ]
    }
   ],
   "source": [
    "#Using if statement\n",
    "customer = 'C00009'\n",
    "if customer in customer_list:\n",
    "    print (99.99)\n",
    "else:\n",
    "    print (0.0)\n",
    "    \n"
   ]
  },
  {
   "cell_type": "code",
   "execution_count": 17,
   "id": "06ece7db",
   "metadata": {},
   "outputs": [
    {
     "data": {
      "text/plain": [
       "0.0"
      ]
     },
     "execution_count": 17,
     "metadata": {},
     "output_type": "execute_result"
    }
   ],
   "source": [
    "#using membership for the above statement\n",
    "('C00009' in customer_list) * 99.99"
   ]
  },
  {
   "cell_type": "markdown",
   "id": "779dc47b",
   "metadata": {},
   "source": [
    "### Market Research Samples\n",
    "\n",
    "1. Using slicing, create a list containing the fifth and sixth customer in the list called `fifth_sixth`.\n"
   ]
  },
  {
   "cell_type": "code",
   "execution_count": 18,
   "id": "4cb5a882",
   "metadata": {},
   "outputs": [
    {
     "data": {
      "text/plain": [
       "['C00006', 'C00007']"
      ]
     },
     "execution_count": 18,
     "metadata": {},
     "output_type": "execute_result"
    }
   ],
   "source": [
    "fifth_sixth=customer_list[4:6]\n",
    "\n",
    "fifth_sixth"
   ]
  },
  {
   "cell_type": "markdown",
   "id": "846b6822",
   "metadata": {},
   "source": [
    "2. Create a list called `every_third` that contains every third customer in the list (1st, 4rd, 7th, and so on...)."
   ]
  },
  {
   "cell_type": "code",
   "execution_count": 19,
   "id": "1a4b1c1e",
   "metadata": {},
   "outputs": [
    {
     "data": {
      "text/plain": [
       "['C00001', 'C00005', 'C00018', 'C00014', 'C00029']"
      ]
     },
     "execution_count": 19,
     "metadata": {},
     "output_type": "execute_result"
    }
   ],
   "source": [
    "every_third = customer_list[::3]\n",
    "\n",
    "every_third"
   ]
  },
  {
   "cell_type": "markdown",
   "id": "7747931d",
   "metadata": {},
   "source": [
    "3. Finally, using slicing, create a list with the last two customers in our dataset, called `last_two`."
   ]
  },
  {
   "cell_type": "code",
   "execution_count": 29,
   "id": "b7c6c921",
   "metadata": {},
   "outputs": [
    {
     "data": {
      "text/plain": [
       "['C00016', 'C00029']"
      ]
     },
     "execution_count": 29,
     "metadata": {},
     "output_type": "execute_result"
    }
   ],
   "source": [
    "last_two = customer_list[-2:]\n",
    "\n",
    "last_two"
   ]
  },
  {
   "cell_type": "code",
   "execution_count": 4,
   "id": "7a128eb5",
   "metadata": {},
   "outputs": [
    {
     "data": {
      "text/plain": [
       "[5.27, 8.79, 17.59, 21.99, 87.99]"
      ]
     },
     "execution_count": 4,
     "metadata": {},
     "output_type": "execute_result"
    }
   ],
   "source": [
    "exchange_rate = 0.88\n",
    "\n",
    "usd_list = [5.99,9.99,19.99,24.99,99.99]\n",
    "\n",
    "euro_list=[]\n",
    "\n",
    "for price in usd_list:\n",
    "    euro_list.append(round(price * exchange_rate,2))\n",
    "    \n",
    "euro_list"
   ]
  },
  {
   "cell_type": "code",
   "execution_count": 8,
   "id": "6e17eb5e",
   "metadata": {},
   "outputs": [],
   "source": [
    "customer_ratings =['5stars','3stars','5stars','4stars','4stars','1stars','4stars','5stars','2stars','5stars']"
   ]
  },
  {
   "cell_type": "code",
   "execution_count": 14,
   "id": "3349c42a",
   "metadata": {},
   "outputs": [
    {
     "data": {
      "text/plain": [
       "5"
      ]
     },
     "execution_count": 14,
     "metadata": {},
     "output_type": "execute_result"
    }
   ],
   "source": [
    "rating = int(customer_ratings[0][0])\n",
    "\n",
    "rating\n",
    "#for i in customer_ratings:\n",
    " #   print(i)"
   ]
  },
  {
   "cell_type": "code",
   "execution_count": 19,
   "id": "389d29b5",
   "metadata": {},
   "outputs": [],
   "source": [
    "numeric_ratings = []\n",
    "\n",
    "for i in customer_ratings:\n",
    "   numeric_ratings.append(int(i[0]))"
   ]
  },
  {
   "cell_type": "code",
   "execution_count": 20,
   "id": "ea9554b7",
   "metadata": {},
   "outputs": [
    {
     "data": {
      "text/plain": [
       "[5, 3, 5, 4, 4, 1, 4, 5, 2, 5]"
      ]
     },
     "execution_count": 20,
     "metadata": {},
     "output_type": "execute_result"
    }
   ],
   "source": [
    "numeric_ratings"
   ]
  },
  {
   "cell_type": "code",
   "execution_count": 21,
   "id": "b1bc9dba",
   "metadata": {},
   "outputs": [
    {
     "data": {
      "text/plain": [
       "3.8"
      ]
     },
     "execution_count": 21,
     "metadata": {},
     "output_type": "execute_result"
    }
   ],
   "source": [
    "sum(numeric_ratings)/ len (numeric_ratings)"
   ]
  },
  {
   "cell_type": "code",
   "execution_count": 22,
   "id": "351142c2",
   "metadata": {},
   "outputs": [
    {
     "name": "stdout",
     "output_type": "stream",
     "text": [
      "The snowboard costs 5.99 euros.\n",
      "The boots costs 9.99 euros.\n",
      "The helmet costs 19.99 euros.\n",
      "The googles costs 24.99 euros.\n",
      "The bindings costs 99.99 euros.\n"
     ]
    }
   ],
   "source": [
    "euro_list= [5.99,9.99,19.99,24.99,99.99]\n",
    "\n",
    "item_list = ['Snowboard','Boots','Helmet','Googles','Bindings']\n",
    "\n",
    "for i in range(len(euro_list)):\n",
    "    print(f\"The {item_list [i].lower()} costs {euro_list[i]} euros.\")\n",
    "    "
   ]
  },
  {
   "cell_type": "code",
   "execution_count": 31,
   "id": "aee6baa6",
   "metadata": {},
   "outputs": [],
   "source": [
    "inventories_list = [10, 14, 10, 15, 8, 27]\n",
    "\n",
    "prices = [2.99 ,99.99 , 219.99,89.99,29.99 , 9.99]\n",
    "\n",
    "#for i in range(len(inventory)):\n",
    " #   print(round(inventory[i] * prices [i] ,2))"
   ]
  },
  {
   "cell_type": "code",
   "execution_count": 27,
   "id": "d848ee48",
   "metadata": {},
   "outputs": [],
   "source": [
    "product_values = []\n",
    "\n",
    "for i in range(len(inventory)):\n",
    "    product_values.append((round(inventory[i] * prices [i] ,2)))"
   ]
  },
  {
   "cell_type": "code",
   "execution_count": 28,
   "id": "ac0177ae",
   "metadata": {},
   "outputs": [
    {
     "data": {
      "text/plain": [
       "[29.9, 1399.86, 2199.9, 1349.85, 239.92, 269.73]"
      ]
     },
     "execution_count": 28,
     "metadata": {},
     "output_type": "execute_result"
    }
   ],
   "source": [
    "product_values"
   ]
  },
  {
   "cell_type": "code",
   "execution_count": 29,
   "id": "cc82a42d",
   "metadata": {},
   "outputs": [
    {
     "data": {
      "text/plain": [
       "5489.16"
      ]
     },
     "execution_count": 29,
     "metadata": {},
     "output_type": "execute_result"
    }
   ],
   "source": [
    "sum(product_values)"
   ]
  },
  {
   "cell_type": "code",
   "execution_count": 30,
   "id": "21c81461",
   "metadata": {},
   "outputs": [],
   "source": [
    "product_values = []"
   ]
  },
  {
   "cell_type": "code",
   "execution_count": 33,
   "id": "57be4c61",
   "metadata": {},
   "outputs": [],
   "source": [
    "for i, inventory in enumerate(inventories_list):\n",
    "    product_values.append((round(inventory * prices [i] ,2)))"
   ]
  },
  {
   "cell_type": "code",
   "execution_count": 34,
   "id": "32c32058",
   "metadata": {},
   "outputs": [
    {
     "data": {
      "text/plain": [
       "[29.9, 1399.86, 2199.9, 1349.85, 239.92, 269.73]"
      ]
     },
     "execution_count": 34,
     "metadata": {},
     "output_type": "execute_result"
    }
   ],
   "source": [
    "product_values"
   ]
  },
  {
   "cell_type": "code",
   "execution_count": 35,
   "id": "fc464b78",
   "metadata": {},
   "outputs": [
    {
     "data": {
      "text/plain": [
       "5489.16"
      ]
     },
     "execution_count": 35,
     "metadata": {},
     "output_type": "execute_result"
    }
   ],
   "source": [
    "sum(product_values)\n"
   ]
  },
  {
   "cell_type": "code",
   "execution_count": null,
   "id": "70355b19",
   "metadata": {},
   "outputs": [],
   "source": []
  }
 ],
 "metadata": {
  "kernelspec": {
   "display_name": "Python 3 (ipykernel)",
   "language": "python",
   "name": "python3"
  },
  "language_info": {
   "codemirror_mode": {
    "name": "ipython",
    "version": 3
   },
   "file_extension": ".py",
   "mimetype": "text/x-python",
   "name": "python",
   "nbconvert_exporter": "python",
   "pygments_lexer": "ipython3",
   "version": "3.9.13"
  }
 },
 "nbformat": 4,
 "nbformat_minor": 5
}
