{
 "cells": [
  {
   "cell_type": "code",
   "execution_count": 3,
   "id": "fe15ace8-083b-428b-94e1-794924207710",
   "metadata": {},
   "outputs": [],
   "source": [
    "items = ['skis','snowboards','goggles','boots']\n",
    "\n",
    "item_details = [[5,249.99],[0,219.99],[0,99.99],[12,79.99]]"
   ]
  },
  {
   "cell_type": "code",
   "execution_count": 4,
   "id": "7096edae-b7ae-4ba5-8ceb-3d2587d085c4",
   "metadata": {},
   "outputs": [
    {
     "data": {
      "text/plain": [
       "[0, 219.99]"
      ]
     },
     "execution_count": 4,
     "metadata": {},
     "output_type": "execute_result"
    }
   ],
   "source": [
    "item_details [1]"
   ]
  },
  {
   "cell_type": "code",
   "execution_count": 5,
   "id": "2b0f811d-7a5d-48d3-a300-45053a4fd9c6",
   "metadata": {},
   "outputs": [
    {
     "data": {
      "text/plain": [
       "219.99"
      ]
     },
     "execution_count": 5,
     "metadata": {},
     "output_type": "execute_result"
    }
   ],
   "source": [
    "item_details [1][1]"
   ]
  },
  {
   "cell_type": "code",
   "execution_count": 6,
   "id": "69e66179-8bfd-4592-91be-404bbb6d6372",
   "metadata": {},
   "outputs": [
    {
     "data": {
      "text/plain": [
       "274.98900000000003"
      ]
     },
     "execution_count": 6,
     "metadata": {},
     "output_type": "execute_result"
    }
   ],
   "source": [
    "item_details [0][1] * 1.1"
   ]
  },
  {
   "cell_type": "code",
   "execution_count": 7,
   "id": "5696be28-de5c-4ddb-95a2-2414999ded3c",
   "metadata": {},
   "outputs": [
    {
     "data": {
      "text/plain": [
       "274.99"
      ]
     },
     "execution_count": 7,
     "metadata": {},
     "output_type": "execute_result"
    }
   ],
   "source": [
    "round(item_details [0][1] * 1.1,2)"
   ]
  },
  {
   "cell_type": "code",
   "execution_count": 9,
   "id": "c12871ff-0340-4f9e-939a-2dd7cc52868b",
   "metadata": {},
   "outputs": [
    {
     "data": {
      "text/plain": [
       "[[5, 249.99], [0, 219.99], [0, 99.99], [12, 79.99]]"
      ]
     },
     "execution_count": 9,
     "metadata": {},
     "output_type": "execute_result"
    }
   ],
   "source": [
    "winter_details = item_details\n",
    "\n",
    "winter_details"
   ]
  },
  {
   "cell_type": "code",
   "execution_count": 10,
   "id": "da673a0b-1b76-4048-81c7-ed392ac14793",
   "metadata": {},
   "outputs": [],
   "source": [
    "winter_details[0] = [100,274.99]"
   ]
  },
  {
   "cell_type": "code",
   "execution_count": 11,
   "id": "19f4a77d-a58e-4446-a571-04566252833b",
   "metadata": {},
   "outputs": [
    {
     "data": {
      "text/plain": [
       "[[100, 274.99], [0, 219.99], [0, 99.99], [12, 79.99]]"
      ]
     },
     "execution_count": 11,
     "metadata": {},
     "output_type": "execute_result"
    }
   ],
   "source": [
    "winter_details"
   ]
  },
  {
   "cell_type": "code",
   "execution_count": 12,
   "id": "9c60ccba-a523-4ac5-81bc-18e6610b1788",
   "metadata": {},
   "outputs": [
    {
     "data": {
      "text/plain": [
       "[[100, 274.99], [0, 219.99], [0, 99.99], [12, 79.99]]"
      ]
     },
     "execution_count": 12,
     "metadata": {},
     "output_type": "execute_result"
    }
   ],
   "source": [
    "item_details"
   ]
  },
  {
   "cell_type": "code",
   "execution_count": 13,
   "id": "af181df4-cf3a-4f62-9ab4-db67dd6b62fc",
   "metadata": {},
   "outputs": [],
   "source": [
    "\n",
    "item_details = [[5,249.99],[0,219.99],[0,99.99],[12,79.99]]"
   ]
  },
  {
   "cell_type": "code",
   "execution_count": 15,
   "id": "8a2dc1c1-a290-429f-a58c-1b9096558144",
   "metadata": {},
   "outputs": [],
   "source": [
    "winter_details = item_details.copy()"
   ]
  },
  {
   "cell_type": "code",
   "execution_count": 16,
   "id": "e8a39940-058f-4cfa-832a-a367c066f6d3",
   "metadata": {},
   "outputs": [
    {
     "data": {
      "text/plain": [
       "[[5, 249.99], [0, 219.99], [0, 99.99], [12, 79.99]]"
      ]
     },
     "execution_count": 16,
     "metadata": {},
     "output_type": "execute_result"
    }
   ],
   "source": [
    "winter_details"
   ]
  },
  {
   "cell_type": "code",
   "execution_count": 18,
   "id": "861c7845-4597-455e-a30b-f14c9c2fc13f",
   "metadata": {},
   "outputs": [
    {
     "data": {
      "text/plain": [
       "[[100, 274.99], [0, 219.99], [0, 99.99], [12, 79.99]]"
      ]
     },
     "execution_count": 18,
     "metadata": {},
     "output_type": "execute_result"
    }
   ],
   "source": [
    "winter_details[0] = [100,274.99]\n",
    "winter_details"
   ]
  },
  {
   "cell_type": "code",
   "execution_count": 19,
   "id": "ae8f0fd3-68c6-488a-8d77-358c273c1461",
   "metadata": {},
   "outputs": [
    {
     "data": {
      "text/plain": [
       "[[5, 249.99], [0, 219.99], [0, 99.99], [12, 79.99]]"
      ]
     },
     "execution_count": 19,
     "metadata": {},
     "output_type": "execute_result"
    }
   ],
   "source": [
    "item_details\n"
   ]
  },
  {
   "cell_type": "code",
   "execution_count": 23,
   "id": "147d1ef2-cb21-48e5-930d-b189ea79a715",
   "metadata": {},
   "outputs": [
    {
     "data": {
      "text/plain": [
       "[[100, 274.99], [50, 219.99], [0, 99.99], [12, 79.99]]"
      ]
     },
     "execution_count": 23,
     "metadata": {},
     "output_type": "execute_result"
    }
   ],
   "source": [
    "#changing one element in the list reflect in the copied list too\n",
    "\n",
    "winter_details[1][0] = 50\n",
    "winter_details\n",
    "\n"
   ]
  },
  {
   "cell_type": "code",
   "execution_count": 33,
   "id": "b19ab131-9452-4b94-b99a-327dbfaef24a",
   "metadata": {},
   "outputs": [
    {
     "data": {
      "text/plain": [
       "[[5, 249.99], [50, 219.99], [0, 99.99], [12, 79.99]]"
      ]
     },
     "execution_count": 33,
     "metadata": {},
     "output_type": "execute_result"
    }
   ],
   "source": [
    "item_details"
   ]
  },
  {
   "cell_type": "code",
   "execution_count": 25,
   "id": "f904eb42-3c6b-4e7b-9df7-0aae99506273",
   "metadata": {},
   "outputs": [],
   "source": [
    "from copy import deepcopy"
   ]
  },
  {
   "cell_type": "code",
   "execution_count": 26,
   "id": "84583f17-c952-4913-8b31-19e464ca02d8",
   "metadata": {},
   "outputs": [],
   "source": [
    "winter_details = deepcopy(item_details)"
   ]
  },
  {
   "cell_type": "code",
   "execution_count": 32,
   "id": "b6ff7cfc-95ac-41de-9945-9a2952eedd36",
   "metadata": {},
   "outputs": [
    {
     "data": {
      "text/plain": [
       "[[100, 274.99], [50, 219.99], [0, 99.99], [12, 79.99]]"
      ]
     },
     "execution_count": 32,
     "metadata": {},
     "output_type": "execute_result"
    }
   ],
   "source": [
    "winter_details"
   ]
  },
  {
   "cell_type": "code",
   "execution_count": 31,
   "id": "f8cb4348-0fec-4635-a6bd-0ff914d5c5bd",
   "metadata": {},
   "outputs": [],
   "source": [
    "winter_details[0] = [100,274.99]"
   ]
  },
  {
   "cell_type": "code",
   "execution_count": null,
   "id": "b2504c5e-c417-4fee-a501-e4c07882bfd2",
   "metadata": {},
   "outputs": [],
   "source": []
  }
 ],
 "metadata": {
  "kernelspec": {
   "display_name": "Python 3 (ipykernel)",
   "language": "python",
   "name": "python3"
  },
  "language_info": {
   "codemirror_mode": {
    "name": "ipython",
    "version": 3
   },
   "file_extension": ".py",
   "mimetype": "text/x-python",
   "name": "python",
   "nbconvert_exporter": "python",
   "pygments_lexer": "ipython3",
   "version": "3.9.13"
  }
 },
 "nbformat": 4,
 "nbformat_minor": 5
}
