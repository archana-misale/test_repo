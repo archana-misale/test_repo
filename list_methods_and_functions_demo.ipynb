{
 "cells": [
  {
   "cell_type": "code",
   "execution_count": 26,
   "id": "02140417-1ead-4f76-8733-302726120dec",
   "metadata": {},
   "outputs": [],
   "source": [
    "customer_ids=['C00001','C00004','C00010','C00004','C00011','C00004']"
   ]
  },
  {
   "cell_type": "code",
   "execution_count": 27,
   "id": "fe19fa04-9dcd-4be8-bb7a-96645ef54644",
   "metadata": {},
   "outputs": [
    {
     "data": {
      "text/plain": [
       "['C00001', 'C00004', 'C00010', 'C00004', 'C00011', 'C00004']"
      ]
     },
     "execution_count": 27,
     "metadata": {},
     "output_type": "execute_result"
    }
   ],
   "source": [
    "customer_ids"
   ]
  },
  {
   "cell_type": "code",
   "execution_count": 28,
   "id": "eb31b307-fee1-4280-9a0e-ac3c0c3e327a",
   "metadata": {},
   "outputs": [
    {
     "data": {
      "text/plain": [
       "1"
      ]
     },
     "execution_count": 28,
     "metadata": {},
     "output_type": "execute_result"
    }
   ],
   "source": [
    "customer_ids.count('C00011')"
   ]
  },
  {
   "cell_type": "code",
   "execution_count": 29,
   "id": "14844ba8-f73a-4cef-97e3-c573a12f433c",
   "metadata": {},
   "outputs": [
    {
     "data": {
      "text/plain": [
       "6"
      ]
     },
     "execution_count": 29,
     "metadata": {},
     "output_type": "execute_result"
    }
   ],
   "source": [
    "len(customer_ids)"
   ]
  },
  {
   "cell_type": "code",
   "execution_count": 30,
   "id": "a101e4e1-b079-464e-932d-59572fb16231",
   "metadata": {},
   "outputs": [
    {
     "data": {
      "text/plain": [
       "0.5"
      ]
     },
     "execution_count": 30,
     "metadata": {},
     "output_type": "execute_result"
    }
   ],
   "source": [
    "customer_ids.count('C00004')/len(customer_ids)"
   ]
  },
  {
   "cell_type": "code",
   "execution_count": 40,
   "id": "bd237c17-99ce-4c86-a038-cf7eacbab44a",
   "metadata": {},
   "outputs": [
    {
     "data": {
      "text/plain": [
       "['C00004']"
      ]
     },
     "execution_count": 40,
     "metadata": {},
     "output_type": "execute_result"
    }
   ],
   "source": [
    "vip_customers = []\n",
    "customer_id = 'C00004'\n",
    "\n",
    "if customer_ids.count(customer_id)/len(customer_ids) > 0.2:\n",
    "    vip_customers.append(customer_id)\n",
    "    \n",
    "vip_customers"
   ]
  },
  {
   "cell_type": "code",
   "execution_count": 32,
   "id": "8447f20f-a8d1-43ea-8a65-2fa9c3577e9a",
   "metadata": {},
   "outputs": [
    {
     "name": "stdout",
     "output_type": "stream",
     "text": [
      "['C00001', 'C00004', 'C00004', 'C00004', 'C00010', 'C00011']\n",
      "['C00001', 'C00004', 'C00004', 'C00004', 'C00010', 'C00011']\n"
     ]
    }
   ],
   "source": [
    "customer_ids.sort()\n",
    "\n",
    "print(customer_ids)\n",
    "\n",
    "\n",
    "print(sorted(customer_ids))"
   ]
  },
  {
   "cell_type": "code",
   "execution_count": 33,
   "id": "02a13a07-5cdb-4f8e-be1d-1a349cde77a5",
   "metadata": {},
   "outputs": [
    {
     "data": {
      "text/plain": [
       "['C00010', 'C00011']"
      ]
     },
     "execution_count": 33,
     "metadata": {},
     "output_type": "execute_result"
    }
   ],
   "source": [
    "customer_ids[-2:]"
   ]
  },
  {
   "cell_type": "code",
   "execution_count": 34,
   "id": "9a4e88b8-aed9-4e64-9fdb-b3171cfad9bc",
   "metadata": {},
   "outputs": [],
   "source": [
    "customer_ids.reverse()"
   ]
  },
  {
   "cell_type": "code",
   "execution_count": 35,
   "id": "59feb8cd-e063-4790-9cfa-84bf3f9acb63",
   "metadata": {},
   "outputs": [
    {
     "data": {
      "text/plain": [
       "['C00011', 'C00010', 'C00004', 'C00004', 'C00004', 'C00001']"
      ]
     },
     "execution_count": 35,
     "metadata": {},
     "output_type": "execute_result"
    }
   ],
   "source": [
    "customer_ids"
   ]
  },
  {
   "cell_type": "code",
   "execution_count": 36,
   "id": "819673ba-379d-40ea-9f52-4ceb5da38cc3",
   "metadata": {},
   "outputs": [
    {
     "data": {
      "text/plain": [
       "['C00011', 'C00010', 'C00004', 'C00004', 'C00004', 'C00001']"
      ]
     },
     "execution_count": 36,
     "metadata": {},
     "output_type": "execute_result"
    }
   ],
   "source": [
    "#customer_ids.index(customer_ids)\n",
    "\n",
    "customer_ids"
   ]
  },
  {
   "cell_type": "code",
   "execution_count": 41,
   "id": "372f175c-8bdb-4668-9ed7-893da65fb870",
   "metadata": {},
   "outputs": [
    {
     "name": "stdout",
     "output_type": "stream",
     "text": [
      "No Discount\n"
     ]
    }
   ],
   "source": [
    "if customer_ids.index(customer_id) < 2:\n",
    "    print(\"Enjoy a 10% discount\")\n",
    "else:\n",
    "    print(\"No Discount\")"
   ]
  },
  {
   "cell_type": "code",
   "execution_count": 42,
   "id": "887edcdd-4256-4f18-823f-c4abe63f2408",
   "metadata": {},
   "outputs": [
    {
     "data": {
      "text/plain": [
       "['C00001', 'C00004', 'C00004', 'C00004', 'C00010', 'C00011']"
      ]
     },
     "execution_count": 42,
     "metadata": {},
     "output_type": "execute_result"
    }
   ],
   "source": [
    "new_list=sorted(customer_ids)\n",
    "\n",
    "new_list\n",
    "#Orginal list used in sorting & created in the new_list"
   ]
  },
  {
   "cell_type": "code",
   "execution_count": 43,
   "id": "4b512d71-7d61-4be7-b306-f51e1e0b1bc8",
   "metadata": {},
   "outputs": [
    {
     "data": {
      "text/plain": [
       "['C00011', 'C00010', 'C00004', 'C00004', 'C00004', 'C00001']"
      ]
     },
     "execution_count": 43,
     "metadata": {},
     "output_type": "execute_result"
    }
   ],
   "source": [
    "customer_ids"
   ]
  },
  {
   "cell_type": "code",
   "execution_count": null,
   "id": "def114f6-a9ee-4b09-9e80-bed530e10263",
   "metadata": {},
   "outputs": [],
   "source": []
  }
 ],
 "metadata": {
  "kernelspec": {
   "display_name": "Python 3 (ipykernel)",
   "language": "python",
   "name": "python3"
  },
  "language_info": {
   "codemirror_mode": {
    "name": "ipython",
    "version": 3
   },
   "file_extension": ".py",
   "mimetype": "text/x-python",
   "name": "python",
   "nbconvert_exporter": "python",
   "pygments_lexer": "ipython3",
   "version": "3.9.13"
  }
 },
 "nbformat": 4,
 "nbformat_minor": 5
}
